{
 "cells": [
  {
   "cell_type": "markdown",
   "metadata": {},
   "source": [
    "<h3>Algoritmo Genético para sintonización de un controlador PD</h3>"
   ]
  },
  {
   "cell_type": "markdown",
   "metadata": {},
   "source": [
    "\n",
    "    Aplicación de Algoritmos Genéticos para Sintonización de un Controlador PD \n",
    " \n",
    "\n",
    "Un controlador PD (proporcional-diferencial) es un elemento de transferencia de un sistema de control de bucle cerrado que comprende componentes de elemento tanto P como D. El componente diferencial responde a la velocidad en la que el error de control cambia. El valor es multiplicado por el coeficiente de acción-derivada KD y sumado al componente P (lo que, por su parte, actúa proporcionalmente en un error de control específico). Como resultado, el controlador PD puede responder a un error de control inminente y, por lo tanto, lograr una acción derivada durante el proceso de control.\n",
    "\n",
    "El controlador PD es un controlador rápido y puede incluso corregir bucles de control con doble integración. Sin embargo, al igual que el controlador P, no puede corregir completamente un error de control. <br>\n",
    "La ecuación del controlador es   **y(t)=KP⋅e(t)+KDde(t)dt**\n",
    "\n"
   ]
  },
  {
   "cell_type": "code",
   "execution_count": 14,
   "metadata": {
    "scrolled": true
   },
   "outputs": [],
   "source": [
    "# Librerías requeridas\n",
    "\n",
    "from matplotlib import pyplot as plt\n",
    "import numpy as np\n",
    "import random"
   ]
  },
  {
   "cell_type": "code",
   "execution_count": 15,
   "metadata": {},
   "outputs": [],
   "source": [
    "\"\"\"\n",
    "Función que muestra la respuesta de un controlador PD en un arreglo \n",
    "Kp : Constante de proporcionalidad\n",
    "Kd : Constante diferencial\n",
    "ad : Valor final al que quiero llegar en una entrada escalón\n",
    "a0:  Valor inicial del controlador \n",
    "t :  Ventana de tiempo\n",
    "\"\"\"\n",
    "\n",
    "def respuesta(kp, kd, ad, a0, t):\n",
    "    a = np.zeros(t.size)\n",
    "    for i in range(t.size):\n",
    "        if i < 2:\n",
    "            a[i] = a0\n",
    "        else:\n",
    "            dt = t[i]-t[i-1]\n",
    "            a[i] = (kp*dt**2*ad+a[i-1]*(2+kd*dt)-a[i-2])/(1+kp*dt**2+kd*dt)\n",
    "    return a"
   ]
  },
  {
   "cell_type": "code",
   "execution_count": 16,
   "metadata": {},
   "outputs": [
    {
     "data": {
      "image/png": "[encoded data removed]",
      "text/plain": [
       "<Figure size 432x288 with 1 Axes>"
      ]
     },
     "metadata": {
      "needs_background": "light"
     },
     "output_type": "display_data"
    }
   ],
   "source": [
    "# Ejemplo de uso de la función respuesta\n",
    "ad = 10    # altura de destino\n",
    "a0 = 0     # altura inicial\n",
    "kp = 500   # constante proporcional\n",
    "kd = 35    # constante diferencial\n",
    "t = np.linspace(0,1,1000)\n",
    "# Generaamos vector de respuesta\n",
    "a = respuesta(kp, kd, ad, a0, t)\n",
    "# Graficamos la curva de respuesta del controlador\n",
    "plt.plot(t,a)\n",
    "plt.show()"
   ]
  },
  {
   "cell_type": "code",
   "execution_count": 17,
   "metadata": {},
   "outputs": [
    {
     "data": {
      "image/png": "[encoded data removed]",
      "text/plain": [
       "<Figure size 432x288 with 1 Axes>"
      ]
     },
     "metadata": {
      "needs_background": "light"
     },
     "output_type": "display_data"
    }
   ],
   "source": [
    "# Generamos tres respuestas con la función para comprobar que distintas combinaciones\n",
    "# de valores de contante diferencial y proporcional nos generan respuestas distintas.\n",
    "# \n",
    "a1 = respuesta(500, 25, ad, a0, t)\n",
    "a2 = respuesta(500, 40, ad, a0, t)\n",
    "a3 = respuesta(500, 55, ad, a0, t)\n",
    "\n",
    "plt.plot(t,a1)\n",
    "plt.plot(t,a2)\n",
    "plt.plot(t,a3)\n",
    "plt.show()\n",
    "\n",
    "# ¿Cuál es la respuesta ideal?\n",
    "# Si queremos obtener una respuesta críticamente amortiguada. Que no se sobrepasa ni ahacia arriba o que quede por abajo del\n",
    "# valor ideal.\n"
   ]
  },
  {
   "cell_type": "code",
   "execution_count": 18,
   "metadata": {},
   "outputs": [],
   "source": [
    "\"\"\"\n",
    "Función para crear individuos que tienen dos números:\n",
    "     la constante proporcional y la constante diferencial del controlador\n",
    "\"\"\"\n",
    "def individuo(min, max):\n",
    "    return[random.randint(min, max) for i in range(largo)]"
   ]
  },
  {
   "cell_type": "code",
   "execution_count": 19,
   "metadata": {},
   "outputs": [],
   "source": [
    "\"\"\"\n",
    "Función para crear población donde cada individuo tendrá las dos constantes kp y kd\n",
    "con valores entre 1 y 1000\n",
    "\"\"\"\n",
    "def crearPoblacion(num):\n",
    "    return [individuo(1,1000) for i in range(num)]"
   ]
  },
  {
   "cell_type": "code",
   "execution_count": 20,
   "metadata": {},
   "outputs": [],
   "source": [
    "\"\"\"\n",
    "\n",
    "Función de fitness para calcular la diferencia de la señal de respuesta entre el valor de la altura deseada y el valor de\n",
    "la altura alcanzada:\n",
    "             fitness = -abs(max(a)-ad)\n",
    "Le colocamos el signo negativo porque intentamos minimizar la diferencia              \n",
    "\"\"\"\n",
    "\n",
    "def calcularFitness(individuo):\n",
    "    fitness = 0\n",
    "    for i in range(len(individuo)):\n",
    "        # calcular fitness aquí!\n",
    "        kp = individuo[0]\n",
    "        kd = individuo[1]\n",
    "        ad = objetivo[0]\n",
    "        ai = 0\n",
    "        t = np.linspace(0,1,100)\n",
    "        a = respuesta(kp, kd, ad, ai, t)\n",
    "        fitness = -abs(max(a)-ad)\n",
    "    return fitness"
   ]
  },
  {
   "cell_type": "code",
   "execution_count": 21,
   "metadata": {},
   "outputs": [],
   "source": [
    "def seleccion_y_reproduccion(poblacion, alcance):\n",
    "    #Calcula el fitness de cada individuo, y lo guarda en pares ordenados de la forma (5 , [1,2,1,1,4,1,8,9,4,1])\n",
    "    puntuados = [ (calcularFitness(i), i) for i in poblacion] \n",
    "    #Ordena los pares ordenados y se queda solo con el array de valores\n",
    "    puntuados = [i[1] for i in sorted(puntuados)] \n",
    "    poblacion = puntuados\n",
    "  \n",
    "    #Esta linea selecciona los 'n' individuos del final\n",
    "    seleccionados =  puntuados[(len(puntuados) - alcance):] \n",
    "  \n",
    "    #Se mezcla el material genetico para crear nuevos individuos\n",
    "    for i in range(len(poblacion)-alcance):\n",
    "        #Se elige un punto para hacer el intercambio\n",
    "        punto = random.randint(1,largo-1) \n",
    "        #Se eligen dos padres\n",
    "        padre = random.sample(seleccionados, 2) \n",
    "        #Se mezcla el material genetico de los padres en cada nuevo individuo\n",
    "        poblacion[i][:punto] = padre[0][:punto] \n",
    "        poblacion[i][punto:] = padre[1][punto:]\n",
    "  \n",
    "        # se retorna la nueva poblacion de individuos\n",
    "\n",
    "    return poblacion "
   ]
  },
  {
   "cell_type": "code",
   "execution_count": 22,
   "metadata": {},
   "outputs": [],
   "source": [
    "def mutar(poblacion, probabilidad_de_mutacion, alcance):\n",
    "    for i in range(len(poblacion) - alcance):\n",
    "        #Cada individuo de la poblacion (menos los padres) tienen una probabilidad de mutar\n",
    "        if random.random() <= probabilidad_de_mutacion:\n",
    "            #Se elgie un punto al azar\n",
    "            punto = random.randint(0,largo-1) \n",
    "            #y un nuevo valor para este punto\n",
    "            nuevo_valor = random.randint(1,1000) \n",
    "  \n",
    "            #Es importante mirar que el nuevo valor no sea igual al viejo\n",
    "            while nuevo_valor == poblacion[i][punto]:\n",
    "                nuevo_valor = random.randint(1,1000)\n",
    "  \n",
    "            #Se aplica la mutacion\n",
    "            poblacion[i][punto] = nuevo_valor\n",
    "  \n",
    "    return poblacion"
   ]
  },
  {
   "cell_type": "code",
   "execution_count": 23,
   "metadata": {},
   "outputs": [
    {
     "name": "stdout",
     "output_type": "stream",
     "text": [
      "Poblacion Inicial:\n",
      "[[499, 383], [567, 443], [632, 263], [483, 561], [354, 888], [113, 953], [857, 479], [401, 285], [175, 483], [37, 452], [160, 614], [834, 672], [846, 631], [641, 746], [445, 533], [983, 935], [28, 162], [517, 788], [193, 578], [306, 850]]\n",
      "Poblacion Final:\n",
      "[[966, 62], [9, 62], [966, 62], [966, 62], [966, 62], [966, 62], [966, 62], [966, 226], [966, 62], [966, 62], [966, 62], [966, 62], [966, 62], [966, 62], [966, 62], [966, 62], [966, 704], [966, 62], [966, 62], [966, 62]]\n"
     ]
    }
   ],
   "source": [
    "# Objetivo a alcanzar [valor final]\n",
    "objetivo = [20] \n",
    "# La longitud del material genetico de cada individuo\n",
    "largo = 2      \n",
    "# La cantidad de individuos que habra en la poblacion\n",
    "num = 20 \n",
    "#Cuantos individuos se seleccionan para reproduccion. Necesariamente mayor que 2\n",
    "alcance = 2     \n",
    "#La probabilidad de que un individuo mute\n",
    "probabilidad_de_mutacion = 0.3   \n",
    "\n",
    "#Inicializar una poblacion\n",
    "poblacion = crearPoblacion(num)\n",
    "#Se muestra la poblacion inicial\n",
    "print(\"Poblacion Inicial:\\n%s\"%(poblacion)) \n",
    "\n",
    "#Se evoluciona la poblacion en 100 evoluciones\n",
    "for i in range(100):\n",
    "    poblacion = seleccion_y_reproduccion(poblacion, alcance)\n",
    "    poblacion = mutar(poblacion, probabilidad_de_mutacion, alcance)\n",
    "\n",
    "#Se muestra la poblacion final    \n",
    "print(\"Poblacion Final:\\n%s\"%(poblacion)) "
   ]
  },
  {
   "cell_type": "code",
   "execution_count": 24,
   "metadata": {},
   "outputs": [
    {
     "data": {
      "image/png": "[encoded data removed]",
      "text/plain": [
       "<Figure size 432x288 with 1 Axes>"
      ]
     },
     "metadata": {
      "needs_background": "light"
     },
     "output_type": "display_data"
    }
   ],
   "source": [
    "# verificamos la respuesta del controlador obtenido\n",
    "ad = objetivo[0]\n",
    "a0 = 0\n",
    "# Seleccionamos el individuo que está en el tope de la lista, el últimob\n",
    "seleccionado = poblacion[-1]\n",
    "kp = seleccionado[0]\n",
    "kd = seleccionado[1]\n",
    "t = np.linspace(0,1,1000)\n",
    "a = respuesta(kp, kd, ad, a0, t)\n",
    "plt.plot(t,a)\n",
    "plt.show()"
   ]
  }
 ],
 "metadata": {
  "kernelspec": {
   "display_name": "Python 3",
   "language": "python",
   "name": "python3"
  },
  "language_info": {
   "codemirror_mode": {
    "name": "ipython",
    "version": 3
   },
   "file_extension": ".py",
   "mimetype": "text/x-python",
   "name": "python",
   "nbconvert_exporter": "python",
   "pygments_lexer": "ipython3",
   "version": "3.6.8"
  }
 },
 "nbformat": 4,
 "nbformat_minor": 2
}
